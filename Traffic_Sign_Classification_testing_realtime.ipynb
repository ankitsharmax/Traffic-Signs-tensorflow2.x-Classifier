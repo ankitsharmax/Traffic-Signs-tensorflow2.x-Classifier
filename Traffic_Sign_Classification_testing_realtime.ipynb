{
 "cells": [
  {
   "cell_type": "markdown",
   "metadata": {},
   "source": [
    "## Importing libraries"
   ]
  },
  {
   "cell_type": "code",
   "execution_count": 1,
   "metadata": {},
   "outputs": [],
   "source": [
    "import numpy as np\n",
    "import pandas as pd\n",
    "import cv2\n",
    "from tensorflow.keras.models import load_model\n",
    "import os\n",
    "import imutils\n",
    "from imutils.video import VideoStream"
   ]
  },
  {
   "cell_type": "markdown",
   "metadata": {},
   "source": [
    "## Loading model and labels"
   ]
  },
  {
   "cell_type": "code",
   "execution_count": 2,
   "metadata": {},
   "outputs": [],
   "source": [
    "LABELS = \"labels.csv\"\n",
    "model = load_model(\"traffic_sign_classfier.model\")\n",
    "labelData=pd.read_csv(LABELS)"
   ]
  },
  {
   "cell_type": "markdown",
   "metadata": {},
   "source": [
    "## Utility function"
   ]
  },
  {
   "cell_type": "code",
   "execution_count": 3,
   "metadata": {},
   "outputs": [],
   "source": [
    "def grayscale(img):\n",
    "  return cv2.cvtColor(img,cv2.COLOR_BGR2GRAY)\n",
    "\n",
    "def equilize(img):\n",
    "  return cv2.equalizeHist(img)\n",
    "\n",
    "def preprocessing(img):\n",
    "  img = grayscale(img)\n",
    "  img = equilize(img)\n",
    "  img = img/255.\n",
    "  return img\n",
    "\n",
    "def getClassName(classNo):\n",
    "    return labelData.Name[classNo]"
   ]
  },
  {
   "cell_type": "markdown",
   "metadata": {},
   "source": [
    "## Realtime Traffic sign recognition"
   ]
  },
  {
   "cell_type": "code",
   "execution_count": 32,
   "metadata": {},
   "outputs": [],
   "source": [
    "def cam():\n",
    "    vs = VideoStream(src=0).start()\n",
    "    \n",
    "    while True:\n",
    "        frame = vs.read()\n",
    "        frame = imutils.resize(frame, width=1080)\n",
    "        img = np.asarray(frame)\n",
    "        img = cv2.resize(img,(32,32))\n",
    "        img = preprocessing(img)\n",
    "        cv2.imshow(\"Preprocessed Image\",img)\n",
    "        img = img.reshape(1,32,32,1)\n",
    "        font = cv2.FONT_HERSHEY_SIMPLEX\n",
    "        cv2.putText(frame, \"CLASS: \" , (20, 35), font, 0.75, (0, 0, 255), 2, cv2.LINE_AA)\n",
    "        cv2.putText(frame, \"PROBABILITY: \", (20, 75), font, 0.75, (0, 0, 255), 2, cv2.LINE_AA)\n",
    "        \n",
    "        predictions = model.predict(img)\n",
    "        probabilityValue =np.amax(predictions)\n",
    "        classIndex = np.argmax(predictions)\n",
    "        \n",
    "        threshold = 0.75\n",
    "        if probabilityValue > threshold:\n",
    "            cv2.putText(frame,str(classIndex)+\"-\"+str(getClassName(classIndex)),(120, 35), font, 0.75, (0, 0, 255), 2, cv2.LINE_AA)\n",
    "            cv2.putText(frame, str(round(probabilityValue*100,2) )+\"%\", (180, 75), font, 0.75, (0, 0, 255), 2, cv2.LINE_AA)\n",
    "        cv2.imshow(\"Result\",frame)\n",
    "        \n",
    "        if cv2.waitKey(1) & 0xFF == ord('q'):\n",
    "            break\n",
    "    cv2.destroyAllWindows()\n",
    "    vs.stop()"
   ]
  },
  {
   "cell_type": "code",
   "execution_count": 33,
   "metadata": {},
   "outputs": [],
   "source": [
    "cam()"
   ]
  },
  {
   "cell_type": "code",
   "execution_count": null,
   "metadata": {},
   "outputs": [],
   "source": []
  },
  {
   "cell_type": "code",
   "execution_count": 36,
   "metadata": {},
   "outputs": [],
   "source": [
    "def filteringImages(img):\n",
    "    img=cv2.GaussianBlur(img,(11,11),0)\n",
    "    return img\n",
    "\n",
    "def returnRedness(img):\n",
    "\tyuv=cv2.cvtColor(img,cv2.COLOR_BGR2YUV)\n",
    "\ty,u,v=cv2.split(yuv)\n",
    "\treturn v\n",
    "\n",
    "def threshold(img,T=150):\n",
    "\t_,img=cv2.threshold(img,T,255,cv2.THRESH_BINARY)\n",
    "\treturn img \n",
    "\n",
    "def findContour(img):\n",
    "\tcontours, hierarchy = cv2.findContours(img,cv2.RETR_TREE,cv2.CHAIN_APPROX_SIMPLE)\n",
    "\treturn contours\n",
    "\n",
    "def findBiggestContour(contours):\n",
    "\tm=0\n",
    "\tc=[cv2.contourArea(i) for i in contours]\n",
    "\treturn contours[c.index(max(c))]\n",
    "\n",
    "def boundaryBox(img,contours):\n",
    "\tx,y,w,h=cv2.boundingRect(contours)\n",
    "\timg=cv2.rectangle(img,(x,y),(x+w,y+h),(0,255,0),2)\n",
    "\tsign=img[y:(y+h) , x:(x+w)]\n",
    "\treturn img,sign"
   ]
  },
  {
   "cell_type": "code",
   "execution_count": 55,
   "metadata": {},
   "outputs": [],
   "source": [
    "def cam_test():\n",
    "    vs = VideoStream(src=0).start()\n",
    "    while True:\n",
    "        frame = vs.read()\n",
    "        frame = imutils.resize(frame,width=1080)\n",
    "        thresh = threshold(frame,T=150)\n",
    "        try:\n",
    "            contours = findContour(thresh)\n",
    "            big = findBiggestContour(contours)\n",
    "#             if cv2.contourArea(big)>1:\n",
    "            img,sign = boundaryBox(frame,big)\n",
    "            cv2.imshow('frame',sign)\n",
    "#             else:\n",
    "#                 cv2.imshow('frame',frame)\n",
    "        except:\n",
    "            cv2.imshow('frame',frame)\n",
    "        \n",
    "        if cv2.waitKey(1) & 0xFF == ord('q'):\n",
    "            break\n",
    "    cv2.destroyAllWindows()\n",
    "    vs.stop()"
   ]
  },
  {
   "cell_type": "code",
   "execution_count": 56,
   "metadata": {},
   "outputs": [],
   "source": [
    "cam_test()"
   ]
  },
  {
   "cell_type": "code",
   "execution_count": null,
   "metadata": {},
   "outputs": [],
   "source": []
  }
 ],
 "metadata": {
  "kernelspec": {
   "display_name": "Python 3",
   "language": "python",
   "name": "python3"
  },
  "language_info": {
   "codemirror_mode": {
    "name": "ipython",
    "version": 3
   },
   "file_extension": ".py",
   "mimetype": "text/x-python",
   "name": "python",
   "nbconvert_exporter": "python",
   "pygments_lexer": "ipython3",
   "version": "3.7.4"
  },
  "latex_envs": {
   "LaTeX_envs_menu_present": true,
   "autoclose": false,
   "autocomplete": true,
   "bibliofile": "biblio.bib",
   "cite_by": "apalike",
   "current_citInitial": 1,
   "eqLabelWithNumbers": true,
   "eqNumInitial": 1,
   "hotkeys": {
    "equation": "Ctrl-E",
    "itemize": "Ctrl-I"
   },
   "labels_anchors": false,
   "latex_user_defs": false,
   "report_style_numbering": false,
   "user_envs_cfg": false
  },
  "varInspector": {
   "cols": {
    "lenName": 16,
    "lenType": 16,
    "lenVar": 40
   },
   "kernels_config": {
    "python": {
     "delete_cmd_postfix": "",
     "delete_cmd_prefix": "del ",
     "library": "var_list.py",
     "varRefreshCmd": "print(var_dic_list())"
    },
    "r": {
     "delete_cmd_postfix": ") ",
     "delete_cmd_prefix": "rm(",
     "library": "var_list.r",
     "varRefreshCmd": "cat(var_dic_list()) "
    }
   },
   "types_to_exclude": [
    "module",
    "function",
    "builtin_function_or_method",
    "instance",
    "_Feature"
   ],
   "window_display": false
  }
 },
 "nbformat": 4,
 "nbformat_minor": 4
}
